{
  "nbformat": 4,
  "nbformat_minor": 0,
  "metadata": {
    "colab": {
      "provenance": []
    },
    "kernelspec": {
      "name": "python3",
      "display_name": "Python 3"
    },
    "language_info": {
      "name": "python"
    }
  },
  "cells": [
    {
      "cell_type": "code",
      "execution_count": 1,
      "metadata": {
        "id": "V1FC_fs8tL9K"
      },
      "outputs": [],
      "source": [
        "import numpy as np\n",
        "from scipy.stats import t"
      ]
    },
    {
      "cell_type": "code",
      "source": [
        "durability_data = [1.13, 1.55, 1.43, 0.92, 1.25, 1.36, 1.32, 0.85, 1.07, 1.48, 1.20, 1.33, 1.18, 1.22, 1.29]\n",
        "sample_size = len(durability_data)\n",
        "sample_mean = np.mean(durability_data)\n",
        "sample_std = np.std(durability_data, ddof=1)"
      ],
      "metadata": {
        "id": "vA_T2eiYugky"
      },
      "execution_count": 2,
      "outputs": []
    },
    {
      "cell_type": "code",
      "source": [
        "alpha = 0.01\n",
        "t_critical = t.ppf(1 - alpha/2, df=sample_size - 1)\n",
        "margin_of_error = t_critical * (sample_std / np.sqrt(sample_size))\n",
        "confidence_interval_a = (sample_mean - margin_of_error, sample_mean + margin_of_error)\n",
        "print(\"99% Confidence Interval using Sample Standard Deviation\")\n",
        "print(\"Confidence Interval:\", confidence_interval_a)"
      ],
      "metadata": {
        "colab": {
          "base_uri": "https://localhost:8080/"
        },
        "id": "hVVf8QXGwd1I",
        "outputId": "7f0c11ee-3acb-4ece-cd67-ac0f5428bdb4"
      },
      "execution_count": 3,
      "outputs": [
        {
          "output_type": "stream",
          "name": "stdout",
          "text": [
            "99% Confidence Interval using Sample Standard Deviation\n",
            "Confidence Interval: (1.0901973384384906, 1.3871359948948425)\n"
          ]
        }
      ]
    },
    {
      "cell_type": "code",
      "source": [
        "population_std = 0.2\n",
        "margin_of_error = t_critical * (population_std / np.sqrt(sample_size))\n",
        "confidence_interval_b = (sample_mean - margin_of_error, sample_mean + margin_of_error)\n",
        "print(\"\\n99% Confidence Interval using Known Population Standard Deviation\")\n",
        "print(\"Confidence Interval:\", confidence_interval_b)"
      ],
      "metadata": {
        "colab": {
          "base_uri": "https://localhost:8080/"
        },
        "id": "F3RoLNwZx98P",
        "outputId": "7f2cf4a1-1238-429a-c944-f69b7cbad5bb"
      },
      "execution_count": 4,
      "outputs": [
        {
          "output_type": "stream",
          "name": "stdout",
          "text": [
            "\n",
            "99% Confidence Interval using Known Population Standard Deviation\n",
            "Confidence Interval: (1.0849431688733762, 1.392390164459957)\n"
          ]
        }
      ]
    },
    {
      "cell_type": "code",
      "source": [],
      "metadata": {
        "id": "C4-iRy0yySdy"
      },
      "execution_count": null,
      "outputs": []
    }
  ]
}