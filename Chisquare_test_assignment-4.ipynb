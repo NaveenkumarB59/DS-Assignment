{
  "nbformat": 4,
  "nbformat_minor": 0,
  "metadata": {
    "colab": {
      "provenance": []
    },
    "kernelspec": {
      "name": "python3",
      "display_name": "Python 3"
    },
    "language_info": {
      "name": "python"
    }
  },
  "cells": [
    {
      "cell_type": "code",
      "source": [
        "import numpy as np\n",
        "import scipy.stats as stats\n",
        "\n",
        "def compute_chi2_statistic(observed):\n",
        "    chi2_stat, p_val, dof, expected = stats.chi2_contingency(observed)\n",
        "    return chi2_stat, p_val, dof, expected\n",
        "\n",
        "def determine_critical_value(dof, alpha=0.05):\n",
        "    return stats.chi2.ppf(1 - alpha, dof)\n",
        "\n",
        "def make_decision(chi2_stat, critical_value):\n",
        "    return chi2_stat > critical_value\n",
        "\n",
        "def main():\n",
        "    # Observed data\n",
        "    observed = np.array([[50, 70], [80, 100], [60, 90], [30, 50], [20, 50]])\n",
        "\n",
        "    # Compute Chi-Square statistic and other parameters\n",
        "    chi2_stat, p_val, dof, expected = compute_chi2_statistic(observed)\n",
        "\n",
        "    # Determine the critical value\n",
        "    alpha = 0.05\n",
        "    critical_value = determine_critical_value(dof, alpha)\n",
        "\n",
        "    # Make decision\n",
        "    reject_null = make_decision(chi2_stat, critical_value)\n",
        "\n",
        "    print(\"Chi-Square Test for Independence\")\n",
        "    print(\"Observed Data:\\n\", observed)\n",
        "    print(\"\\nExpected Frequencies:\\n\", expected)\n",
        "    print(\"\\nChi-Square Statistic:\", chi2_stat)\n",
        "    print(\"\\nDegrees of Freedom:\", dof)\n",
        "    print(\"\\nCritical Value:\", critical_value)\n",
        "    print(\"\\nP-value:\", p_val)\n",
        "    print(\"\\nReject the null hypothesis:\", reject_null)\n",
        "    print(\"\\n\")\n",
        "\n",
        "    # Conclusion\n",
        "    if reject_null:\n",
        "        print(\"Conclusion: There is a significant association between the type of device and customer satisfaction level.\")\n",
        "    else:\n",
        "        print(\"Conclusion: There is no significant association between the type of device and customer satisfaction level.\")\n",
        "\n",
        "if __name__ == \"__main__\":\n",
        "    main()\n"
      ],
      "metadata": {
        "colab": {
          "base_uri": "https://localhost:8080/"
        },
        "id": "tZyH49-yDExk",
        "outputId": "1e25bc39-4b8e-4e8a-8950-7dd748f0f2e2"
      },
      "execution_count": 2,
      "outputs": [
        {
          "output_type": "stream",
          "name": "stdout",
          "text": [
            "Chi-Square Test for Independence\n",
            "Observed Data:\n",
            " [[ 50  70]\n",
            " [ 80 100]\n",
            " [ 60  90]\n",
            " [ 30  50]\n",
            " [ 20  50]]\n",
            "\n",
            "Expected Frequencies:\n",
            " [[ 48.  72.]\n",
            " [ 72. 108.]\n",
            " [ 60.  90.]\n",
            " [ 32.  48.]\n",
            " [ 28.  42.]]\n",
            "\n",
            "Chi-Square Statistic: 5.638227513227513\n",
            "\n",
            "Degrees of Freedom: 4\n",
            "\n",
            "Critical Value: 9.487729036781154\n",
            "\n",
            "P-value: 0.22784371130697179\n",
            "\n",
            "Reject the null hypothesis: False\n",
            "\n",
            "\n",
            "Conclusion: There is no significant association between the type of device and customer satisfaction level.\n"
          ]
        }
      ]
    },
    {
      "cell_type": "code",
      "source": [],
      "metadata": {
        "id": "FlkpEY6BDlsH"
      },
      "execution_count": null,
      "outputs": []
    }
  ]
}